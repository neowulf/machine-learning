{
 "cells": [
  {
   "cell_type": "code",
   "execution_count": 1,
   "metadata": {
    "ExecuteTime": {
     "end_time": "2017-12-18T22:03:54.217164Z",
     "start_time": "2017-12-18T22:03:46.105972Z"
    },
    "scrolled": true
   },
   "outputs": [
    {
     "name": "stderr",
     "output_type": "stream",
     "text": [
      "Using Theano backend.\n",
      "WARNING (theano.sandbox.cuda): The cuda backend is deprecated and will be removed in the next release (v0.10).  Please switch to the gpuarray backend. You can get more information about how to switch at this URL:\n",
      " https://github.com/Theano/Theano/wiki/Converting-to-the-new-gpu-back-end%28gpuarray%29\n",
      "\n",
      "Using gpu device 0: Tesla K80 (CNMeM is disabled, cuDNN 5103)\n"
     ]
    }
   ],
   "source": [
    "# Allows for interactive shell - outputs all non variable statements\n",
    "from IPython.core.interactiveshell import InteractiveShell\n",
    "InteractiveShell.ast_node_interactivity = \"all\"\n",
    "\n",
    "# To plot pretty figures\n",
    "%matplotlib notebook\n",
    "%config InlineBackend.figure_format = 'retina'\n",
    "\n",
    "# https://ipython.org/ipython-doc/3/config/extensions/autoreload.html\n",
    "%load_ext autoreload\n",
    "%autoreload 1\n",
    "%aimport keras_vgg16\n",
    "from keras_vgg16 import *"
   ]
  },
  {
   "cell_type": "code",
   "execution_count": 5,
   "metadata": {
    "ExecuteTime": {
     "end_time": "2017-12-18T22:09:32.487386Z",
     "start_time": "2017-12-18T22:09:32.471637Z"
    }
   },
   "outputs": [],
   "source": [
    "import os\n",
    "import shutil\n",
    "from glob import glob\n",
    "np.random.seed(10)\n",
    "\n",
    "current_dir = os.getcwd()\n",
    "DATASET_DIR=os.path.join(current_dir, 'dataset')\n",
    "CROSSVALID_DIR=os.path.join(DATASET_DIR, 'cross_valid')\n",
    "TRAIN_DIR = os.path.join(DATASET_DIR, 'train')\n",
    "TEST_DIR = os.path.join(DATASET_DIR, 'test')\n",
    "CROSSVALID_DIR = os.path.join(DATASET_DIR, 'cross_valid')\n",
    "SAMPLE_DIR = os.path.join(DATASET_DIR, 'sample')\n",
    "\n",
    "SAMPLE_TRAIN_DIR=os.path.join(SAMPLE_DIR, 'train')\n",
    "SAMPLE_CROSSVALID_DIR=os.path.join(SAMPLE_DIR, 'cross_valid')\n",
    "\n",
    "WEIGHTS_DIR = os.path.join(current_dir, 'weights')"
   ]
  },
  {
   "cell_type": "code",
   "execution_count": 3,
   "metadata": {
    "ExecuteTime": {
     "end_time": "2017-12-18T22:07:12.131302Z",
     "start_time": "2017-12-18T22:07:03.386757Z"
    },
    "scrolled": true
   },
   "outputs": [
    {
     "name": "stdout",
     "output_type": "stream",
     "text": [
      "_________________________________________________________________\n",
      "Layer (type)                 Output Shape              Param #   \n",
      "=================================================================\n",
      "input_4 (InputLayer)         (None, 224, 224, 3)       0         \n",
      "_________________________________________________________________\n",
      "block1_conv1 (Conv2D)        (None, 224, 224, 64)      1792      \n",
      "_________________________________________________________________\n",
      "block1_conv2 (Conv2D)        (None, 224, 224, 64)      36928     \n",
      "_________________________________________________________________\n",
      "block1_pool (MaxPooling2D)   (None, 112, 112, 64)      0         \n",
      "_________________________________________________________________\n",
      "block2_conv1 (Conv2D)        (None, 112, 112, 128)     73856     \n",
      "_________________________________________________________________\n",
      "block2_conv2 (Conv2D)        (None, 112, 112, 128)     147584    \n",
      "_________________________________________________________________\n",
      "block2_pool (MaxPooling2D)   (None, 56, 56, 128)       0         \n",
      "_________________________________________________________________\n",
      "block3_conv1 (Conv2D)        (None, 56, 56, 256)       295168    \n",
      "_________________________________________________________________\n",
      "block3_conv2 (Conv2D)        (None, 56, 56, 256)       590080    \n",
      "_________________________________________________________________\n",
      "block3_conv3 (Conv2D)        (None, 56, 56, 256)       590080    \n",
      "_________________________________________________________________\n",
      "block3_pool (MaxPooling2D)   (None, 28, 28, 256)       0         \n",
      "_________________________________________________________________\n",
      "block4_conv1 (Conv2D)        (None, 28, 28, 512)       1180160   \n",
      "_________________________________________________________________\n",
      "block4_conv2 (Conv2D)        (None, 28, 28, 512)       2359808   \n",
      "_________________________________________________________________\n",
      "block4_conv3 (Conv2D)        (None, 28, 28, 512)       2359808   \n",
      "_________________________________________________________________\n",
      "block4_pool (MaxPooling2D)   (None, 14, 14, 512)       0         \n",
      "_________________________________________________________________\n",
      "block5_conv1 (Conv2D)        (None, 14, 14, 512)       2359808   \n",
      "_________________________________________________________________\n",
      "block5_conv2 (Conv2D)        (None, 14, 14, 512)       2359808   \n",
      "_________________________________________________________________\n",
      "block5_conv3 (Conv2D)        (None, 14, 14, 512)       2359808   \n",
      "_________________________________________________________________\n",
      "block5_pool (MaxPooling2D)   (None, 7, 7, 512)         0         \n",
      "_________________________________________________________________\n",
      "flatten (Flatten)            (None, 25088)             0         \n",
      "_________________________________________________________________\n",
      "fc1 (Dense)                  (None, 4096)              102764544 \n",
      "_________________________________________________________________\n",
      "fc2 (Dense)                  (None, 4096)              16781312  \n",
      "_________________________________________________________________\n",
      "predictions (Dense)          (None, 1000)              4097000   \n",
      "_________________________________________________________________\n",
      "dense_4 (Dense)              (None, 2)                 2002      \n",
      "=================================================================\n",
      "Total params: 138,359,546\n",
      "Trainable params: 2,002\n",
      "Non-trainable params: 138,357,544\n",
      "_________________________________________________________________\n"
     ]
    }
   ],
   "source": [
    "vgg16 = KerasVgg16(WEIGHTS_DIR)\n",
    "vgg16.create_model(learning_rate = 0.01, ttl_outputs=2)\n",
    "vgg16.model.summary()"
   ]
  },
  {
   "cell_type": "code",
   "execution_count": null,
   "metadata": {
    "ExecuteTime": {
     "start_time": "2017-12-18T22:20:51.120Z"
    }
   },
   "outputs": [
    {
     "name": "stdout",
     "output_type": "stream",
     "text": [
      "Found 22500 images belonging to 2 classes.\n",
      "Found 2500 images belonging to 2 classes.\n",
      "Epoch 1/3\n",
      "642/642 [==============================] - 555s 864ms/step - loss: 0.1485 - acc: 0.9659 - val_loss: 0.1023 - val_acc: 0.9674\n",
      "Epoch 2/3\n",
      "642/642 [==============================] - 556s 866ms/step - loss: 0.0893 - acc: 0.9692 - val_loss: 0.0878 - val_acc: 0.9686\n",
      "Epoch 3/3\n",
      "642/642 [==============================] - 558s 870ms/step - loss: 0.0785 - acc: 0.9708 - val_loss: 0.0833 - val_acc: 0.9698\n",
      "Epoch 1/3\n",
      "642/642 [==============================] - 559s 870ms/step - loss: 0.0733 - acc: 0.9722 - val_loss: 0.0821 - val_acc: 0.9702\n",
      "Epoch 2/3\n",
      "642/642 [==============================] - 558s 870ms/step - loss: 0.0696 - acc: 0.9738 - val_loss: 0.0795 - val_acc: 0.9698\n",
      "Epoch 3/3\n",
      "642/642 [==============================] - 558s 869ms/step - loss: 0.0670 - acc: 0.9747 - val_loss: 0.0790 - val_acc: 0.9698\n",
      "Epoch 1/3\n",
      " 76/642 [==>...........................] - ETA: 7:29 - loss: 0.0754 - acc: 0.9684"
     ]
    }
   ],
   "source": [
    "train_generator = vgg16.generator(TRAIN_DIR, 35)\n",
    "valid_generator = vgg16.generator(CROSSVALID_DIR, 35)\n",
    "\n",
    "vgg16.finetune('sample', train_generator, valid_generator, epochs=3)"
   ]
  }
 ],
 "metadata": {
  "kernelspec": {
   "display_name": "Python 3",
   "language": "python",
   "name": "python3"
  },
  "language_info": {
   "codemirror_mode": {
    "name": "ipython",
    "version": 3
   },
   "file_extension": ".py",
   "mimetype": "text/x-python",
   "name": "python",
   "nbconvert_exporter": "python",
   "pygments_lexer": "ipython3",
   "version": "3.6.3"
  },
  "toc": {
   "nav_menu": {},
   "number_sections": true,
   "sideBar": true,
   "skip_h1_title": false,
   "toc_cell": false,
   "toc_position": {},
   "toc_section_display": "block",
   "toc_window_display": false
  }
 },
 "nbformat": 4,
 "nbformat_minor": 2
}
